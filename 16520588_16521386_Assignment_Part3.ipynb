{
 "cells": [
  {
   "cell_type": "markdown",
   "metadata": {},
   "source": [
    "### Author:\n",
    "\n",
    "    HOANG MINH KHIEM - 16520588\n",
    "    TRAN ANH TUAN - 16521386\n",
    "\n",
    "### Overview: \n",
    "In this assignment, you will need to apply data analytics, using the tools introduced during the labs. You are required to study the SEEK job market data and analyze. The assignment consists of 3 parts. In the first part, you will need to understand data characteristics using data preparation and preprocessing techniques. In the second part, you will perform various data analysis techniques, including exploratory, statistical, and predictive ones. In the third part, you will need to evaluate your findings and determine appropriate future actions."
   ]
  },
  {
   "cell_type": "markdown",
   "metadata": {},
   "source": [
    "# Part 3 - Evaluation\n",
    "### 1) What are the findings of your data analytics? \n",
    "    ● Base on above analysis, I can conclude somethings:\n",
    "        - There're some cities have the highest number of job such as Sydney or Melbourne (base on \"Job by Locations\" graph). However, the average highest income is located in another cities such as ACT or Port Macquarie & Mid North Coast (base on \"Salary by Locations\" graph). The same things happen in the division of job in sectors (look for \"Job by Sectors\" and \"Salary by Sectors\" graph).\n",
    "        - I can identify the market size of each city as well as the hottest job available in each city. For example, student can choose to live and work in Sydney because a lots of jobs are offered there. Beside that, I suggest student should focus on learning about Information & Communication Technology because it's the hottest job there.\n",
    "        - If someone is looking for job, I suggest them should apply at the begining of the month. That's the time when most of companties post there job (base on \"Job by Day\" line graph)."
   ]
  },
  {
   "cell_type": "markdown",
   "metadata": {},
   "source": [
    "### 2) What actions for balancing the markets do you suggest based on your findings?\n",
    "    ● From above analysis, there're some actions could be made for balancing the market:\n",
    "        - Most of the job now are availabling in a few cities such as Sydney or Melbourne, while the others such as Darwin, Hobart, etc. doesn't have much job to do. In this case, companies can move to those cities and open more jobs so that the market might be balance in both job's size and salary.\n",
    "        - Instead of just focus posting job on the begining of the month, companies should post job at the middle and end of the month so that will be more choice for the employee as well as reduce the the large quantity on the begining."
   ]
  },
  {
   "cell_type": "markdown",
   "metadata": {},
   "source": [
    "### 3) How could you refine your data analytics? \n",
    "    ● Could you use different data sources?\n",
    "        - This data.csv file is the most general and suitable one for analyzing the job market statistic and trending. However, if we want more detailed data, we can use the data that provided by the companies.\n",
    "        \n",
    "    ● Could you choose different parameters?\n",
    "        - If I can, I will choose \"Company\" column to analize the job available in each company as well as which company has the bigger range of salary for employee.\n",
    "        \n",
    "    ● Could you choose other techniques? \n",
    "        - I don't think I can use another techniques to analysis the data. But I can use different tools to do the data analysis such as PowerBI or Google Data Studio.\n",
    "    \n",
    "    ● Can you think of ways to obtain more relevant data?\n",
    "        - We can get more relevant data by contacting directly with companies, making survey by survey forms, asking employees, etc."
   ]
  },
  {
   "cell_type": "markdown",
   "metadata": {},
   "source": [
    "### 4) Are there any implications for employers and employees based on the findings you obtained? Justify your answer.\n",
    "    ● From the finding, there are some implication to:\n",
    "        - Employers: They can decide which time in month they should post the job to reduce the pressure on job market. Beside that, they can choose the location that doesn't have much job offer to reduce the competition with the other company in the same market.\n",
    "        - Employees: They can know which city has the most job offer as well as which job has the highest income, so that they can decide which sector they shoul"
   ]
  },
  {
   "cell_type": "markdown",
   "metadata": {},
   "source": [
    "### 5) Present and visualize your data story on an online Web page \n",
    "    ● Publish your website on Google Cloud (or github.io). \n",
    "        - I give up on this, sorry Teacher.\n",
    "<br><br><br>\n",
    "        \n",
    "<i>                                                     Author:\n",
    "<br>                                              Hoang Minh Khiem\n",
    "<br>                                                Tran Anh Tuan\n",
    "    \n",
    "                                                     ~ END PART 3 ~\n",
    "                                                         ~ END ~"
   ]
  }
 ],
 "metadata": {
  "kernelspec": {
   "display_name": "Python 3",
   "language": "python",
   "name": "python3"
  },
  "language_info": {
   "codemirror_mode": {
    "name": "ipython",
    "version": 3
   },
   "file_extension": ".py",
   "mimetype": "text/x-python",
   "name": "python",
   "nbconvert_exporter": "python",
   "pygments_lexer": "ipython3",
   "version": "3.6.4"
  }
 },
 "nbformat": 4,
 "nbformat_minor": 2
}
